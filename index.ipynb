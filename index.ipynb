{
 "cells": [
  {
   "cell_type": "markdown",
   "metadata": {},
   "source": [
    "# Multiple Linear Regression - Cumulative Lab"
   ]
  },
  {
   "cell_type": "markdown",
   "metadata": {},
   "source": [
    "## Introduction\n",
    "\n",
    "In this cumulative lab you'll perform an end-to-end analysis of a dataset using multiple linear regression."
   ]
  },
  {
   "cell_type": "markdown",
   "metadata": {},
   "source": [
    "## Objectives\n",
    "\n",
    "You will be able to:\n",
    "\n",
    "* Prepare data for regression analysis using pandas\n",
    "* Build multiple linear regression models using StatsModels\n",
    "* Measure regression model performance\n",
    "* Interpret multiple linear regression coefficients"
   ]
  },
  {
   "cell_type": "markdown",
   "metadata": {},
   "source": [
    "## Your Task: Develop a Model of Diamond Prices\n",
    "\n",
    "![tweezers holding a diamond](https://curriculum-content.s3.amazonaws.com/data-science/images/diamond.jpg)\n",
    "\n",
    "Photo by <a href=\"https://unsplash.com/@tahliaclaire?utm_source=unsplash&utm_medium=referral&utm_content=creditCopyText\">Tahlia Doyle</a> on <a href=\"https://unsplash.com/s/photos/diamonds?utm_source=unsplash&utm_medium=referral&utm_content=creditCopyText\">Unsplash</a>"
   ]
  },
  {
   "cell_type": "markdown",
   "metadata": {},
   "source": [
    "### Business Understanding\n",
    "\n",
    "You've been asked to perform an analysis to see how various factors impact the price of diamonds. There are various [guides online](https://www.diamonds.pro/education/diamond-prices/) that claim to tell consumers how to avoid getting \"ripped off\", but you've been asked to dig into the data to see whether these claims ring true.\n",
    "\n",
    "### Data Understanding\n",
    "\n",
    "We have downloaded a diamonds dataset from [Kaggle](https://www.kaggle.com/datasets/shivam2503/diamonds), which came with this description:\n",
    "\n",
    "* **price** price in US dollars (\\$326--\\$18,823)\n",
    "* **carat** weight of the diamond (0.2--5.01)\n",
    "* **cut** quality of the cut (Fair, Good, Very Good, Premium, Ideal)\n",
    "* **color** diamond colour, from J (worst) to D (best)\n",
    "* **clarity** a measurement of how clear the diamond is (I1 (worst), SI2, SI1, VS2, VS1, VVS2, VVS1, IF (best))\n",
    "* **x** length in mm (0--10.74)\n",
    "* **y** width in mm (0--58.9)\n",
    "* **z** depth in mm (0--31.8)\n",
    "* **depth** total depth percentage = z / mean(x, y) = 2 * z / (x + y) (43--79)\n",
    "* **table** width of top of diamond relative to widest point (43--95)"
   ]
  },
  {
   "cell_type": "markdown",
   "metadata": {},
   "source": [
    "### Requirements\n",
    "\n",
    "#### 1. Load the Data Using Pandas\n",
    "\n",
    "Practice once again with loading CSV data into a `pandas` dataframe.\n",
    "\n",
    "#### 2. Build a Baseline Simple Linear Regression Model\n",
    "\n",
    "Identify the feature that is most correlated with `price` and build a StatsModels linear regression model using just that feature.\n",
    "\n",
    "#### 3. Evaluate and Interpret Baseline Model Results\n",
    "\n",
    "Explain the overall performance as well as parameter coefficients for the baseline simple linear regression model.\n",
    "\n",
    "#### 4. Prepare a Categorical Feature for Multiple Regression Modeling\n",
    "\n",
    "Identify a promising categorical feature and use `pd.get_dummies()` to prepare it for modeling.\n",
    "\n",
    "#### 5. Build a Multiple Linear Regression Model\n",
    "\n",
    "Using the data from Step 4, create a second StatsModels linear regression model using one numeric feature and one one-hot encoded categorical feature.\n",
    "\n",
    "#### 6. Evaluate and Interpret Multiple Linear Regression Model Results\n",
    "\n",
    "Explain the performance of the new model in comparison with the baseline, and interpret the new parameter coefficients."
   ]
  },
  {
   "cell_type": "markdown",
   "metadata": {},
   "source": [
    "## 1. Load the Data Using Pandas\n",
    "\n",
    "Import `pandas` (with the standard alias `pd`), and load the data from the file `diamonds.csv` into a DataFrame called `diamonds`.\n",
    "\n",
    "Be sure to specify `index_col=0` to avoid creating an \"Unnamed: 0\" column."
   ]
  },
  {
   "cell_type": "code",
   "execution_count": 42,
   "metadata": {},
   "outputs": [],
   "source": [
    "# Your code here\n",
    "import pandas as pd\n",
    "diamonds = pd.read_csv('diamonds.csv',index_col=0)"
   ]
  },
  {
   "cell_type": "markdown",
   "metadata": {},
   "source": [
    "The following code checks that you loaded the data correctly:"
   ]
  },
  {
   "cell_type": "code",
   "execution_count": 43,
   "metadata": {},
   "outputs": [],
   "source": [
    "# Run this cell without changes\n",
    "\n",
    "# diamonds should be a dataframe\n",
    "assert type(diamonds) == pd.DataFrame\n",
    "\n",
    "# Check that there are the correct number of rows\n",
    "assert diamonds.shape[0] == 53940\n",
    "\n",
    "# Check that there are the correct number of columns\n",
    "# (if this crashes, make sure you specified `index_col=0`)\n",
    "assert diamonds.shape[1] == 10"
   ]
  },
  {
   "cell_type": "markdown",
   "metadata": {},
   "source": [
    "Inspect the distributions of the numeric features:"
   ]
  },
  {
   "cell_type": "code",
   "execution_count": 44,
   "metadata": {},
   "outputs": [
    {
     "data": {
      "text/html": [
       "<div>\n",
       "<style scoped>\n",
       "    .dataframe tbody tr th:only-of-type {\n",
       "        vertical-align: middle;\n",
       "    }\n",
       "\n",
       "    .dataframe tbody tr th {\n",
       "        vertical-align: top;\n",
       "    }\n",
       "\n",
       "    .dataframe thead th {\n",
       "        text-align: right;\n",
       "    }\n",
       "</style>\n",
       "<table border=\"1\" class=\"dataframe\">\n",
       "  <thead>\n",
       "    <tr style=\"text-align: right;\">\n",
       "      <th></th>\n",
       "      <th>carat</th>\n",
       "      <th>depth</th>\n",
       "      <th>table</th>\n",
       "      <th>price</th>\n",
       "      <th>x</th>\n",
       "      <th>y</th>\n",
       "      <th>z</th>\n",
       "    </tr>\n",
       "  </thead>\n",
       "  <tbody>\n",
       "    <tr>\n",
       "      <th>count</th>\n",
       "      <td>53940.000000</td>\n",
       "      <td>53940.000000</td>\n",
       "      <td>53940.000000</td>\n",
       "      <td>53940.000000</td>\n",
       "      <td>53940.000000</td>\n",
       "      <td>53940.000000</td>\n",
       "      <td>53940.000000</td>\n",
       "    </tr>\n",
       "    <tr>\n",
       "      <th>mean</th>\n",
       "      <td>0.797940</td>\n",
       "      <td>61.749405</td>\n",
       "      <td>57.457184</td>\n",
       "      <td>3932.799722</td>\n",
       "      <td>5.731157</td>\n",
       "      <td>5.734526</td>\n",
       "      <td>3.538734</td>\n",
       "    </tr>\n",
       "    <tr>\n",
       "      <th>std</th>\n",
       "      <td>0.474011</td>\n",
       "      <td>1.432621</td>\n",
       "      <td>2.234491</td>\n",
       "      <td>3989.439738</td>\n",
       "      <td>1.121761</td>\n",
       "      <td>1.142135</td>\n",
       "      <td>0.705699</td>\n",
       "    </tr>\n",
       "    <tr>\n",
       "      <th>min</th>\n",
       "      <td>0.200000</td>\n",
       "      <td>43.000000</td>\n",
       "      <td>43.000000</td>\n",
       "      <td>326.000000</td>\n",
       "      <td>0.000000</td>\n",
       "      <td>0.000000</td>\n",
       "      <td>0.000000</td>\n",
       "    </tr>\n",
       "    <tr>\n",
       "      <th>25%</th>\n",
       "      <td>0.400000</td>\n",
       "      <td>61.000000</td>\n",
       "      <td>56.000000</td>\n",
       "      <td>950.000000</td>\n",
       "      <td>4.710000</td>\n",
       "      <td>4.720000</td>\n",
       "      <td>2.910000</td>\n",
       "    </tr>\n",
       "    <tr>\n",
       "      <th>50%</th>\n",
       "      <td>0.700000</td>\n",
       "      <td>61.800000</td>\n",
       "      <td>57.000000</td>\n",
       "      <td>2401.000000</td>\n",
       "      <td>5.700000</td>\n",
       "      <td>5.710000</td>\n",
       "      <td>3.530000</td>\n",
       "    </tr>\n",
       "    <tr>\n",
       "      <th>75%</th>\n",
       "      <td>1.040000</td>\n",
       "      <td>62.500000</td>\n",
       "      <td>59.000000</td>\n",
       "      <td>5324.250000</td>\n",
       "      <td>6.540000</td>\n",
       "      <td>6.540000</td>\n",
       "      <td>4.040000</td>\n",
       "    </tr>\n",
       "    <tr>\n",
       "      <th>max</th>\n",
       "      <td>5.010000</td>\n",
       "      <td>79.000000</td>\n",
       "      <td>95.000000</td>\n",
       "      <td>18823.000000</td>\n",
       "      <td>10.740000</td>\n",
       "      <td>58.900000</td>\n",
       "      <td>31.800000</td>\n",
       "    </tr>\n",
       "  </tbody>\n",
       "</table>\n",
       "</div>"
      ],
      "text/plain": [
       "              carat         depth         table         price             x  \\\n",
       "count  53940.000000  53940.000000  53940.000000  53940.000000  53940.000000   \n",
       "mean       0.797940     61.749405     57.457184   3932.799722      5.731157   \n",
       "std        0.474011      1.432621      2.234491   3989.439738      1.121761   \n",
       "min        0.200000     43.000000     43.000000    326.000000      0.000000   \n",
       "25%        0.400000     61.000000     56.000000    950.000000      4.710000   \n",
       "50%        0.700000     61.800000     57.000000   2401.000000      5.700000   \n",
       "75%        1.040000     62.500000     59.000000   5324.250000      6.540000   \n",
       "max        5.010000     79.000000     95.000000  18823.000000     10.740000   \n",
       "\n",
       "                  y             z  \n",
       "count  53940.000000  53940.000000  \n",
       "mean       5.734526      3.538734  \n",
       "std        1.142135      0.705699  \n",
       "min        0.000000      0.000000  \n",
       "25%        4.720000      2.910000  \n",
       "50%        5.710000      3.530000  \n",
       "75%        6.540000      4.040000  \n",
       "max       58.900000     31.800000  "
      ]
     },
     "execution_count": 44,
     "metadata": {},
     "output_type": "execute_result"
    }
   ],
   "source": [
    "# Run this cell without changes\n",
    "diamonds.describe()"
   ]
  },
  {
   "cell_type": "markdown",
   "metadata": {},
   "source": [
    "And inspect the value counts for the categorical features:"
   ]
  },
  {
   "cell_type": "code",
   "execution_count": 45,
   "metadata": {},
   "outputs": [
    {
     "name": "stdout",
     "output_type": "stream",
     "text": [
      "cut\n",
      "Ideal        21551\n",
      "Premium      13791\n",
      "Very Good    12082\n",
      "Good          4906\n",
      "Fair          1610\n",
      "Name: count, dtype: int64 \n",
      "\n",
      "color\n",
      "G    11292\n",
      "E     9797\n",
      "F     9542\n",
      "H     8304\n",
      "D     6775\n",
      "I     5422\n",
      "J     2808\n",
      "Name: count, dtype: int64 \n",
      "\n",
      "clarity\n",
      "SI1     13065\n",
      "VS2     12258\n",
      "SI2      9194\n",
      "VS1      8171\n",
      "VVS2     5066\n",
      "VVS1     3655\n",
      "IF       1790\n",
      "I1        741\n",
      "Name: count, dtype: int64 \n",
      "\n"
     ]
    }
   ],
   "source": [
    "# Run this cell without changes\n",
    "categoricals = diamonds.select_dtypes(\"object\")\n",
    "\n",
    "for col in categoricals:\n",
    "    print(diamonds[col].value_counts(), \"\\n\")"
   ]
  },
  {
   "cell_type": "markdown",
   "metadata": {},
   "source": [
    "## 2. Build a Baseline Simple Linear Regression Model\n",
    "\n",
    "### Identifying a Highly Correlated Predictor\n",
    "\n",
    "The target variable is `price`. Look at the correlation coefficients for all of the predictor variables to find the one with the highest correlation with `price`."
   ]
  },
  {
   "cell_type": "code",
   "execution_count": 46,
   "metadata": {},
   "outputs": [
    {
     "data": {
      "text/plain": [
       "price    1.000000\n",
       "carat    0.921591\n",
       "x        0.884435\n",
       "y        0.865421\n",
       "z        0.861249\n",
       "table    0.127134\n",
       "depth   -0.010647\n",
       "Name: price, dtype: float64"
      ]
     },
     "execution_count": 46,
     "metadata": {},
     "output_type": "execute_result"
    }
   ],
   "source": [
    "# Your code here - look at correlations\n",
    "numeric_diamonds = diamonds.select_dtypes(include=['number'])\n",
    "correlations = numeric_diamonds.corr()['price'].sort_values(ascending=False)\n",
    "correlations"
   ]
  },
  {
   "cell_type": "markdown",
   "metadata": {},
   "source": [
    "Identify the name of the predictor column with the strongest correlation below."
   ]
  },
  {
   "cell_type": "code",
   "execution_count": 47,
   "metadata": {},
   "outputs": [],
   "source": [
    "# Replace None with appropriate code\n",
    "most_correlated = correlations.index[1]"
   ]
  },
  {
   "cell_type": "markdown",
   "metadata": {},
   "source": [
    "The following code checks that you specified a column correctly:"
   ]
  },
  {
   "cell_type": "code",
   "execution_count": 48,
   "metadata": {},
   "outputs": [],
   "source": [
    "# Run this cell without changes\n",
    "\n",
    "# most_correlated should be a string\n",
    "assert type(most_correlated) == str\n",
    "\n",
    "# most_correlated should be one of the columns other than price\n",
    "assert most_correlated in diamonds.drop(\"price\", axis=1).columns"
   ]
  },
  {
   "cell_type": "markdown",
   "metadata": {},
   "source": [
    "### Plotting the Predictor vs. Price\n",
    "\n",
    "We'll also create a scatter plot of that variable vs. `price`:"
   ]
  },
  {
   "cell_type": "code",
   "execution_count": 49,
   "metadata": {},
   "outputs": [
    {
     "data": {
      "image/png": "[encoded data removed]",
      "text/plain": [
       "<Figure size 640x480 with 1 Axes>"
      ]
     },
     "metadata": {},
     "output_type": "display_data"
    }
   ],
   "source": [
    "# Run this cell without changes\n",
    "\n",
    "# Plot a sample of 1000 data points, most_correlated vs. price\n",
    "diamonds.sample(1000, random_state=1).plot.scatter(x=most_correlated, y=\"price\");"
   ]
  },
  {
   "cell_type": "markdown",
   "metadata": {},
   "source": [
    "### Setting Up Variables for Regression\n",
    "\n",
    "Declare `y` and `X_baseline` variables, where `y` is a Series containing `price` data and `X_baseline` is a DataFrame containing the column with the strongest correlation."
   ]
  },
  {
   "cell_type": "code",
   "execution_count": 50,
   "metadata": {},
   "outputs": [],
   "source": [
    "# Replace None with appropriate code\n",
    "y = diamonds['price']\n",
    "X_baseline = diamonds[[most_correlated]]"
   ]
  },
  {
   "cell_type": "markdown",
   "metadata": {},
   "source": [
    "The following code checks that you created valid `y` and `X_baseline` variables:"
   ]
  },
  {
   "cell_type": "code",
   "execution_count": 51,
   "metadata": {},
   "outputs": [],
   "source": [
    "# Run this code without changes\n",
    "\n",
    "# y should be a series\n",
    "assert type(y) == pd.Series\n",
    "\n",
    "# y should contain about 54k rows\n",
    "assert y.shape == (53940,)\n",
    "\n",
    "# X_baseline should be a DataFrame\n",
    "assert type(X_baseline) == pd.DataFrame\n",
    "\n",
    "# X_baseline should contain the same number of rows as y\n",
    "assert X_baseline.shape[0] == y.shape[0]\n",
    "\n",
    "# X_baseline should have 1 column\n",
    "assert X_baseline.shape[1] == 1"
   ]
  },
  {
   "cell_type": "markdown",
   "metadata": {},
   "source": [
    "### Creating and Fitting Simple Linear Regression\n",
    "\n",
    "The following code uses your variables to build and fit a simple linear regression."
   ]
  },
  {
   "cell_type": "code",
   "execution_count": 52,
   "metadata": {},
   "outputs": [],
   "source": [
    "# Run this cell without changes\n",
    "import statsmodels.api as sm\n",
    "\n",
    "baseline_model = sm.OLS(y, sm.add_constant(X_baseline))\n",
    "baseline_results = baseline_model.fit()"
   ]
  },
  {
   "cell_type": "markdown",
   "metadata": {},
   "source": [
    "## 3. Evaluate and Interpret Baseline Model Results\n",
    "\n",
    "Write any necessary code to evaluate the model performance overall and interpret its coefficients."
   ]
  },
  {
   "cell_type": "code",
   "execution_count": 53,
   "metadata": {},
   "outputs": [
    {
     "name": "stdout",
     "output_type": "stream",
     "text": [
      "BASELINE MODEL PERFORMANCE EVALUATION\n",
      "==================================================\n",
      "Root Mean Squared Error (RMSE): $1,548.53\n",
      "Mean Absolute Error (MAE): $1,007.46\n",
      "R-squared (R²): 0.8493\n",
      "R-squared (Percentage): 84.93%\n",
      "\n",
      "COEFFICIENT INTERPRETATION\n",
      "==================================================\n",
      "Intercept (β₀): $-2,256.36\n",
      "carat Coefficient (β₁): $7,756.43\n",
      "\n",
      "BUSINESS INTERPRETATION\n",
      "==================================================\n",
      "• The baseline price (when carat = 0) is $-2,256.36\n",
      "• For each additional unit of carat, the price increases by $7,756.43\n",
      "• This simple model explains 84.9% of the variation in diamond prices\n",
      "• The average prediction error is approximately $1,548.53\n",
      "\n",
      "STATISTICAL CONTEXT\n",
      "==================================================\n",
      "• RMSE ($1,548.53) represents the standard deviation of prediction errors\n",
      "• MAE ($1,007.46) represents the average absolute prediction error\n",
      "• R² of 0.8493 indicates the proportion of variance explained\n",
      "• Improvement over predicting mean price: 61.2% reduction in RMSE\n"
     ]
    }
   ],
   "source": [
    "# Your code here\n",
    "# Import necessary libraries\n",
    "from sklearn.linear_model import LinearRegression\n",
    "from sklearn.metrics import mean_squared_error, mean_absolute_error, r2_score\n",
    "import numpy as np\n",
    "\n",
    "# 1. Create and fit the baseline model\n",
    "baseline_model = LinearRegression()\n",
    "baseline_model.fit(X_baseline, y)\n",
    "\n",
    "# 2. Make predictions\n",
    "y_pred_baseline = baseline_model.predict(X_baseline)\n",
    "\n",
    "# 3. Calculate performance metrics\n",
    "baseline_mse = mean_squared_error(y, y_pred_baseline)\n",
    "baseline_rmse = np.sqrt(baseline_mse)\n",
    "baseline_mae = mean_absolute_error(y, y_pred_baseline)\n",
    "baseline_r2 = r2_score(y, y_pred_baseline)\n",
    "\n",
    "# 4. Display model performance\n",
    "print(\"BASELINE MODEL PERFORMANCE EVALUATION\")\n",
    "print(\"=\" * 50)\n",
    "print(f\"Root Mean Squared Error (RMSE): ${baseline_rmse:,.2f}\")\n",
    "print(f\"Mean Absolute Error (MAE): ${baseline_mae:,.2f}\")\n",
    "print(f\"R-squared (R²): {baseline_r2:.4f}\")\n",
    "print(f\"R-squared (Percentage): {baseline_r2*100:.2f}%\")\n",
    "\n",
    "# 5. Interpret coefficients\n",
    "print(\"\\nCOEFFICIENT INTERPRETATION\")\n",
    "print(\"=\" * 50)\n",
    "print(f\"Intercept (β₀): ${baseline_model.intercept_:,.2f}\")\n",
    "print(f\"{most_correlated} Coefficient (β₁): ${baseline_model.coef_[0]:,.2f}\")\n",
    "\n",
    "# 6. Business interpretation\n",
    "print(\"\\nBUSINESS INTERPRETATION\")\n",
    "print(\"=\" * 50)\n",
    "print(f\"• The baseline price (when {most_correlated} = 0) is ${baseline_model.intercept_:,.2f}\")\n",
    "print(f\"• For each additional unit of {most_correlated}, the price increases by ${baseline_model.coef_[0]:,.2f}\")\n",
    "print(f\"• This simple model explains {baseline_r2*100:.1f}% of the variation in diamond prices\")\n",
    "print(f\"• The average prediction error is approximately ${baseline_rmse:,.2f}\")\n",
    "\n",
    "# 7. Additional statistical context\n",
    "print(\"\\nSTATISTICAL CONTEXT\")\n",
    "print(\"=\" * 50)\n",
    "print(f\"• RMSE (${baseline_rmse:,.2f}) represents the standard deviation of prediction errors\")\n",
    "print(f\"• MAE (${baseline_mae:,.2f}) represents the average absolute prediction error\")\n",
    "print(f\"• R² of {baseline_r2:.4f} indicates the proportion of variance explained\")\n",
    "\n",
    "# Optional: Compare to naive baseline (predicting mean)\n",
    "naive_prediction = np.full_like(y, fill_value=y.mean())\n",
    "naive_rmse = np.sqrt(mean_squared_error(y, naive_prediction))\n",
    "improvement = ((naive_rmse - baseline_rmse) / naive_rmse) * 100\n",
    "print(f\"• Improvement over predicting mean price: {improvement:.1f}% reduction in RMSE\")"
   ]
  },
  {
   "cell_type": "markdown",
   "metadata": {},
   "source": [
    "Then summarize your findings below:"
   ]
  },
  {
   "cell_type": "code",
   "execution_count": 54,
   "metadata": {},
   "outputs": [],
   "source": [
    "# Your written answer here\n",
    "#Large coefficient shows strong relationship between carat and price.\n",
    "#High R² (likely 80-90%) shows this single predictor is quite powerful\n",
    "#Negative intercept is mathematically correct but not practically meaningful (no zero-carat diamonds)\n",
    "#RMSE gives practical sense of prediction accuracy in dollars\n",
    "#The model significantly outperforms simply predicting the average price"
   ]
  },
  {
   "cell_type": "markdown",
   "metadata": {},
   "source": [
    "<details>\n",
    "    <summary style=\"cursor: pointer\"><b>Solution (click to expand)</b></summary>\n",
    "\n",
    "`carat` was the attribute most strongly correlated with `price`, therefore our model is describing this relationship.\n",
    "\n",
    "Overall this model is statistically significant and explains about 85% of the variance in price. In a typical prediction, the model is off by about &dollar;1k.\n",
    "\n",
    "* The intercept is at about -\\\\$2.3k. This means that a zero-carat diamond would sell for -\\\\$2.3k.\n",
    "* The coefficient for `carat` is about \\\\$7.8k. This means for each additional carat, the diamond costs about \\\\$7.8k more.\n",
    "\n",
    "</details>    "
   ]
  },
  {
   "cell_type": "markdown",
   "metadata": {},
   "source": [
    "## 4. Prepare a Categorical Feature for Multiple Regression Modeling\n",
    "\n",
    "Now let's go beyond our simple linear regression and add a categorical feature.\n",
    "\n",
    "### Identifying a Promising Predictor\n",
    "\n",
    "Below we create bar graphs for the categories present in each categorical feature:"
   ]
  },
  {
   "cell_type": "code",
   "execution_count": 55,
   "metadata": {},
   "outputs": [
    {
     "name": "stdout",
     "output_type": "stream",
     "text": [
      "Categorical columns and their unique values:\n",
      "\n",
      "cut:\n",
      "  Unique values: ['Ideal' 'Premium' 'Good' 'Very Good' 'Fair']\n",
      "  Sample values: ['Ideal', 'Premium', 'Good', 'Premium', 'Good']\n",
      "\n",
      "color:\n",
      "  Unique values: ['E' 'I' 'J' 'H' 'F' 'G' 'D']\n",
      "  Sample values: ['E', 'E', 'E', 'I', 'J']\n",
      "\n",
      "clarity:\n",
      "  Unique values: ['SI2' 'SI1' 'VS1' 'VS2' 'VVS2' 'VVS1' 'I1' 'IF']\n",
      "  Sample values: ['SI2', 'SI1', 'VS1', 'VS2', 'SI2']\n"
     ]
    }
   ],
   "source": [
    "#see what's actually in the categorical columns\n",
    "print(\"Categorical columns and their unique values:\")\n",
    "for col in diamonds.select_dtypes(\"object\").columns:\n",
    "    print(f\"\\n{col}:\")\n",
    "    print(f\"  Unique values: {diamonds[col].unique()}\")\n",
    "    print(f\"  Sample values: {diamonds[col].head().tolist()}\")"
   ]
  },
  {
   "cell_type": "code",
   "execution_count": 56,
   "metadata": {},
   "outputs": [
    {
     "ename": "TypeError",
     "evalue": "agg function failed [how->mean,dtype->object]",
     "output_type": "error",
     "traceback": [
      "\u001b[31m---------------------------------------------------------------------------\u001b[39m",
      "\u001b[31mTypeError\u001b[39m                                 Traceback (most recent call last)",
      "\u001b[36mFile \u001b[39m\u001b[32m~\\miniconda3\\envs\\learn-env\\Lib\\site-packages\\pandas\\core\\groupby\\groupby.py:1942\u001b[39m, in \u001b[36mGroupBy._agg_py_fallback\u001b[39m\u001b[34m(self, how, values, ndim, alt)\u001b[39m\n\u001b[32m   1941\u001b[39m \u001b[38;5;28;01mtry\u001b[39;00m:\n\u001b[32m-> \u001b[39m\u001b[32m1942\u001b[39m     res_values = \u001b[38;5;28mself\u001b[39m._grouper.agg_series(ser, alt, preserve_dtype=\u001b[38;5;28;01mTrue\u001b[39;00m)\n\u001b[32m   1943\u001b[39m \u001b[38;5;28;01mexcept\u001b[39;00m \u001b[38;5;167;01mException\u001b[39;00m \u001b[38;5;28;01mas\u001b[39;00m err:\n",
      "\u001b[36mFile \u001b[39m\u001b[32m~\\miniconda3\\envs\\learn-env\\Lib\\site-packages\\pandas\\core\\groupby\\ops.py:864\u001b[39m, in \u001b[36mBaseGrouper.agg_series\u001b[39m\u001b[34m(self, obj, func, preserve_dtype)\u001b[39m\n\u001b[32m    862\u001b[39m     preserve_dtype = \u001b[38;5;28;01mTrue\u001b[39;00m\n\u001b[32m--> \u001b[39m\u001b[32m864\u001b[39m result = \u001b[38;5;28mself\u001b[39m._aggregate_series_pure_python(obj, func)\n\u001b[32m    866\u001b[39m npvalues = lib.maybe_convert_objects(result, try_float=\u001b[38;5;28;01mFalse\u001b[39;00m)\n",
      "\u001b[36mFile \u001b[39m\u001b[32m~\\miniconda3\\envs\\learn-env\\Lib\\site-packages\\pandas\\core\\groupby\\ops.py:885\u001b[39m, in \u001b[36mBaseGrouper._aggregate_series_pure_python\u001b[39m\u001b[34m(self, obj, func)\u001b[39m\n\u001b[32m    884\u001b[39m \u001b[38;5;28;01mfor\u001b[39;00m i, group \u001b[38;5;129;01min\u001b[39;00m \u001b[38;5;28menumerate\u001b[39m(splitter):\n\u001b[32m--> \u001b[39m\u001b[32m885\u001b[39m     res = func(group)\n\u001b[32m    886\u001b[39m     res = extract_result(res)\n",
      "\u001b[36mFile \u001b[39m\u001b[32m~\\miniconda3\\envs\\learn-env\\Lib\\site-packages\\pandas\\core\\groupby\\groupby.py:2454\u001b[39m, in \u001b[36mGroupBy.mean.<locals>.<lambda>\u001b[39m\u001b[34m(x)\u001b[39m\n\u001b[32m   2451\u001b[39m \u001b[38;5;28;01melse\u001b[39;00m:\n\u001b[32m   2452\u001b[39m     result = \u001b[38;5;28mself\u001b[39m._cython_agg_general(\n\u001b[32m   2453\u001b[39m         \u001b[33m\"\u001b[39m\u001b[33mmean\u001b[39m\u001b[33m\"\u001b[39m,\n\u001b[32m-> \u001b[39m\u001b[32m2454\u001b[39m         alt=\u001b[38;5;28;01mlambda\u001b[39;00m x: Series(x, copy=\u001b[38;5;28;01mFalse\u001b[39;00m).mean(numeric_only=numeric_only),\n\u001b[32m   2455\u001b[39m         numeric_only=numeric_only,\n\u001b[32m   2456\u001b[39m     )\n\u001b[32m   2457\u001b[39m     \u001b[38;5;28;01mreturn\u001b[39;00m result.__finalize__(\u001b[38;5;28mself\u001b[39m.obj, method=\u001b[33m\"\u001b[39m\u001b[33mgroupby\u001b[39m\u001b[33m\"\u001b[39m)\n",
      "\u001b[36mFile \u001b[39m\u001b[32m~\\miniconda3\\envs\\learn-env\\Lib\\site-packages\\pandas\\core\\series.py:6560\u001b[39m, in \u001b[36mSeries.mean\u001b[39m\u001b[34m(self, axis, skipna, numeric_only, **kwargs)\u001b[39m\n\u001b[32m   6552\u001b[39m \u001b[38;5;129m@doc\u001b[39m(make_doc(\u001b[33m\"\u001b[39m\u001b[33mmean\u001b[39m\u001b[33m\"\u001b[39m, ndim=\u001b[32m1\u001b[39m))\n\u001b[32m   6553\u001b[39m \u001b[38;5;28;01mdef\u001b[39;00m\u001b[38;5;250m \u001b[39m\u001b[34mmean\u001b[39m(\n\u001b[32m   6554\u001b[39m     \u001b[38;5;28mself\u001b[39m,\n\u001b[32m   (...)\u001b[39m\u001b[32m   6558\u001b[39m     **kwargs,\n\u001b[32m   6559\u001b[39m ):\n\u001b[32m-> \u001b[39m\u001b[32m6560\u001b[39m     \u001b[38;5;28;01mreturn\u001b[39;00m NDFrame.mean(\u001b[38;5;28mself\u001b[39m, axis, skipna, numeric_only, **kwargs)\n",
      "\u001b[36mFile \u001b[39m\u001b[32m~\\miniconda3\\envs\\learn-env\\Lib\\site-packages\\pandas\\core\\generic.py:12439\u001b[39m, in \u001b[36mNDFrame.mean\u001b[39m\u001b[34m(self, axis, skipna, numeric_only, **kwargs)\u001b[39m\n\u001b[32m  12432\u001b[39m \u001b[38;5;28;01mdef\u001b[39;00m\u001b[38;5;250m \u001b[39m\u001b[34mmean\u001b[39m(\n\u001b[32m  12433\u001b[39m     \u001b[38;5;28mself\u001b[39m,\n\u001b[32m  12434\u001b[39m     axis: Axis | \u001b[38;5;28;01mNone\u001b[39;00m = \u001b[32m0\u001b[39m,\n\u001b[32m   (...)\u001b[39m\u001b[32m  12437\u001b[39m     **kwargs,\n\u001b[32m  12438\u001b[39m ) -> Series | \u001b[38;5;28mfloat\u001b[39m:\n\u001b[32m> \u001b[39m\u001b[32m12439\u001b[39m     \u001b[38;5;28;01mreturn\u001b[39;00m \u001b[38;5;28mself\u001b[39m._stat_function(\n\u001b[32m  12440\u001b[39m         \u001b[33m\"\u001b[39m\u001b[33mmean\u001b[39m\u001b[33m\"\u001b[39m, nanops.nanmean, axis, skipna, numeric_only, **kwargs\n\u001b[32m  12441\u001b[39m     )\n",
      "\u001b[36mFile \u001b[39m\u001b[32m~\\miniconda3\\envs\\learn-env\\Lib\\site-packages\\pandas\\core\\generic.py:12396\u001b[39m, in \u001b[36mNDFrame._stat_function\u001b[39m\u001b[34m(self, name, func, axis, skipna, numeric_only, **kwargs)\u001b[39m\n\u001b[32m  12394\u001b[39m validate_bool_kwarg(skipna, \u001b[33m\"\u001b[39m\u001b[33mskipna\u001b[39m\u001b[33m\"\u001b[39m, none_allowed=\u001b[38;5;28;01mFalse\u001b[39;00m)\n\u001b[32m> \u001b[39m\u001b[32m12396\u001b[39m \u001b[38;5;28;01mreturn\u001b[39;00m \u001b[38;5;28mself\u001b[39m._reduce(\n\u001b[32m  12397\u001b[39m     func, name=name, axis=axis, skipna=skipna, numeric_only=numeric_only\n\u001b[32m  12398\u001b[39m )\n",
      "\u001b[36mFile \u001b[39m\u001b[32m~\\miniconda3\\envs\\learn-env\\Lib\\site-packages\\pandas\\core\\series.py:6468\u001b[39m, in \u001b[36mSeries._reduce\u001b[39m\u001b[34m(self, op, name, axis, skipna, numeric_only, filter_type, **kwds)\u001b[39m\n\u001b[32m   6464\u001b[39m     \u001b[38;5;28;01mraise\u001b[39;00m \u001b[38;5;167;01mTypeError\u001b[39;00m(\n\u001b[32m   6465\u001b[39m         \u001b[33mf\u001b[39m\u001b[33m\"\u001b[39m\u001b[33mSeries.\u001b[39m\u001b[38;5;132;01m{\u001b[39;00mname\u001b[38;5;132;01m}\u001b[39;00m\u001b[33m does not allow \u001b[39m\u001b[38;5;132;01m{\u001b[39;00mkwd_name\u001b[38;5;132;01m}\u001b[39;00m\u001b[33m=\u001b[39m\u001b[38;5;132;01m{\u001b[39;00mnumeric_only\u001b[38;5;132;01m}\u001b[39;00m\u001b[33m \u001b[39m\u001b[33m\"\u001b[39m\n\u001b[32m   6466\u001b[39m         \u001b[33m\"\u001b[39m\u001b[33mwith non-numeric dtypes.\u001b[39m\u001b[33m\"\u001b[39m\n\u001b[32m   6467\u001b[39m     )\n\u001b[32m-> \u001b[39m\u001b[32m6468\u001b[39m \u001b[38;5;28;01mreturn\u001b[39;00m op(delegate, skipna=skipna, **kwds)\n",
      "\u001b[36mFile \u001b[39m\u001b[32m~\\miniconda3\\envs\\learn-env\\Lib\\site-packages\\pandas\\core\\nanops.py:147\u001b[39m, in \u001b[36mbottleneck_switch.__call__.<locals>.f\u001b[39m\u001b[34m(values, axis, skipna, **kwds)\u001b[39m\n\u001b[32m    146\u001b[39m \u001b[38;5;28;01melse\u001b[39;00m:\n\u001b[32m--> \u001b[39m\u001b[32m147\u001b[39m     result = alt(values, axis=axis, skipna=skipna, **kwds)\n\u001b[32m    149\u001b[39m \u001b[38;5;28;01mreturn\u001b[39;00m result\n",
      "\u001b[36mFile \u001b[39m\u001b[32m~\\miniconda3\\envs\\learn-env\\Lib\\site-packages\\pandas\\core\\nanops.py:404\u001b[39m, in \u001b[36m_datetimelike_compat.<locals>.new_func\u001b[39m\u001b[34m(values, axis, skipna, mask, **kwargs)\u001b[39m\n\u001b[32m    402\u001b[39m     mask = isna(values)\n\u001b[32m--> \u001b[39m\u001b[32m404\u001b[39m result = func(values, axis=axis, skipna=skipna, mask=mask, **kwargs)\n\u001b[32m    406\u001b[39m \u001b[38;5;28;01mif\u001b[39;00m datetimelike:\n",
      "\u001b[36mFile \u001b[39m\u001b[32m~\\miniconda3\\envs\\learn-env\\Lib\\site-packages\\pandas\\core\\nanops.py:720\u001b[39m, in \u001b[36mnanmean\u001b[39m\u001b[34m(values, axis, skipna, mask)\u001b[39m\n\u001b[32m    719\u001b[39m the_sum = values.sum(axis, dtype=dtype_sum)\n\u001b[32m--> \u001b[39m\u001b[32m720\u001b[39m the_sum = _ensure_numeric(the_sum)\n\u001b[32m    722\u001b[39m \u001b[38;5;28;01mif\u001b[39;00m axis \u001b[38;5;129;01mis\u001b[39;00m \u001b[38;5;129;01mnot\u001b[39;00m \u001b[38;5;28;01mNone\u001b[39;00m \u001b[38;5;129;01mand\u001b[39;00m \u001b[38;5;28mgetattr\u001b[39m(the_sum, \u001b[33m\"\u001b[39m\u001b[33mndim\u001b[39m\u001b[33m\"\u001b[39m, \u001b[38;5;28;01mFalse\u001b[39;00m):\n",
      "\u001b[36mFile \u001b[39m\u001b[32m~\\miniconda3\\envs\\learn-env\\Lib\\site-packages\\pandas\\core\\nanops.py:1701\u001b[39m, in \u001b[36m_ensure_numeric\u001b[39m\u001b[34m(x)\u001b[39m\n\u001b[32m   1699\u001b[39m \u001b[38;5;28;01mif\u001b[39;00m \u001b[38;5;28misinstance\u001b[39m(x, \u001b[38;5;28mstr\u001b[39m):\n\u001b[32m   1700\u001b[39m     \u001b[38;5;66;03m# GH#44008, GH#36703 avoid casting e.g. strings to numeric\u001b[39;00m\n\u001b[32m-> \u001b[39m\u001b[32m1701\u001b[39m     \u001b[38;5;28;01mraise\u001b[39;00m \u001b[38;5;167;01mTypeError\u001b[39;00m(\u001b[33mf\u001b[39m\u001b[33m\"\u001b[39m\u001b[33mCould not convert string \u001b[39m\u001b[33m'\u001b[39m\u001b[38;5;132;01m{\u001b[39;00mx\u001b[38;5;132;01m}\u001b[39;00m\u001b[33m'\u001b[39m\u001b[33m to numeric\u001b[39m\u001b[33m\"\u001b[39m)\n\u001b[32m   1702\u001b[39m \u001b[38;5;28;01mtry\u001b[39;00m:\n",
      "\u001b[31mTypeError\u001b[39m: Could not convert string 'EEFFFHHHGEJGEGIEFGFJIJJFEHHHGFGHDJJHEIGIHGDFFEFHIIIHJIHFFHIEDHEHIHIEIEGGIEJFGEFJGHJHFDEJGFJGHFDJIIEHJGFIFDGIIHGFIDDJEEIGGHFHJEEEEGGGGGHFJJFHIHFFGGJHHHEJHFJFDDDDDFIHJIDHGIIFFEHIHFFHIIEDGJDGGFFEGIEIHGHDDHIFJEGJJFFJGHDDFHHHEHHGIEHHHFGGHGEHIHFIFFFFHFGGGFDGHHFIGEHFDDEEHHGHDDHHFFFEDIHFFHDFGEIEGHGDJDFGEIIGDEDGGHHHGIGFFEDDGEHHFHHDEEHJEEIDEIFHFDDIGGDDHFJJHEFFGEGFHDHGGGFJEGFGEIEGEDDHHEEDJEFHHEHJJHJGHGFEFHIDEEHFFDEEHFIEIFFDGDEGIJGGGGDHHGFFFFIIHIIHHHFFDHDDFFGIGEGDDHGEHFFEEEGEEEEEGFDEIIFFEJFEGGGFGGHHFFHFFIFDIIIDDFJHDGFHDDHDDHDEDFEFFFDEDFFFGJEEDFGEGHGEGGGHFFHEFEGHHHGEFHEFEIFHHIDJHFDGDFFFDGHHEFIHEFJHFJHFGFDHEEDDJHJEDFHDGGGGJFGEJGGEFJDHEHDGHGIGEIIHEJIHFDJFFJGJEGHJJHFGHHHJHFIGDEFFFHIIDIFEHEGFFEJHHGHHGGGFDIGGFFGHFGGFGHDGGHFHJIIGFFJEHGHHHFJHIEJFFFGGIDFHGFFJIJHHHGGFGDFGIHFHHHEHEEDFHHHEEFDDIIJHFGIEEIGIFGHHIHHHHEFHDFIIJFEHGDHGGFDIFGGIJHEIFEIHJIDJHHHDIHHDFFIJJFDGEHHHFGDGFIIGDIGGIIEDHHHHIGGHFHEEEFGEJHJHIGEHHHGGGGJIGEFGHEIDFHFGFHGEJEIHGGDHHHFJHHGEHHFJGJIHFHFHGHGJHDHJGJGGEGIDIEFEDGEDHIHJJFHDDFFDFIGHHFIHGFJHIIHGJHGHFEGDFGGHFFGGGFIEEFFGFGEDFGFFGEFEEFEGFEEHGGEIFEDFFGEGIHFFEFFEJEGGGGGGIIFGEFHFFFFFFFJDGGFFDEFIGJFFGEGGFFIEGFHHJEGGGFEGEHFGFFDGHEJFGHEDEFEGHGFFHHEHGHHEIGFJHFDFFGFDJHIFEFEFEGDEFHIEHGHEGEDDHDGGEGEHFGEHDGFDDDHHGHFJHEFGEJEGFGGEEEEEIFJDIGGGGDDEJIIDFGFFFFIFGHFEFDGIGDJHGGJIDIGEHHEGGGFIJEEEHHIGHHJDHFEFJIFFJGDFHIJHIDHHHHIFFJJHEHHIIGHHEJFEIDJJFGFFGGGFJFGEEGJHFDHHJGFGHGIIEEGEDEJEGFGFIEIGHHHGHGGFGEGFEFDFFEDHFFIHIIGJIGFEEIIHFEHFDFGDHFFFDFFDDGHIEHHDFHIGDIGIEGGHGGHFHGGIHIGGFJGGFEGIEDJGFHIIIFGGDIEIHEDGDEIDHIGGFDDFDGHDIIGGFFFGGGGJFHIIGGFGGGHIDHIEEJGFFGFDIEHFHFJDHFJIJDGIIDGHDEGIEEGHGHDFEHEFGEFGGIHJGHEFGHEEHFFGHHEGGFIIGD' to numeric",
      "\nThe above exception was the direct cause of the following exception:\n",
      "\u001b[31mTypeError\u001b[39m                                 Traceback (most recent call last)",
      "\u001b[36mCell\u001b[39m\u001b[36m \u001b[39m\u001b[32mIn[56]\u001b[39m\u001b[32m, line 8\u001b[39m\n\u001b[32m      5\u001b[39m fig, axes = plt.subplots(ncols=\u001b[38;5;28mlen\u001b[39m(categorical_features), figsize=(\u001b[32m12\u001b[39m,\u001b[32m5\u001b[39m))\n\u001b[32m      7\u001b[39m \u001b[38;5;28;01mfor\u001b[39;00m index, feature \u001b[38;5;129;01min\u001b[39;00m \u001b[38;5;28menumerate\u001b[39m(categorical_features):\n\u001b[32m----> \u001b[39m\u001b[32m8\u001b[39m     diamonds.groupby(feature).mean().plot.bar(\n\u001b[32m      9\u001b[39m         y=\u001b[33m\"\u001b[39m\u001b[33mprice\u001b[39m\u001b[33m\"\u001b[39m, ax=axes[index])\n",
      "\u001b[36mFile \u001b[39m\u001b[32m~\\miniconda3\\envs\\learn-env\\Lib\\site-packages\\pandas\\core\\groupby\\groupby.py:2452\u001b[39m, in \u001b[36mGroupBy.mean\u001b[39m\u001b[34m(self, numeric_only, engine, engine_kwargs)\u001b[39m\n\u001b[32m   2445\u001b[39m     \u001b[38;5;28;01mreturn\u001b[39;00m \u001b[38;5;28mself\u001b[39m._numba_agg_general(\n\u001b[32m   2446\u001b[39m         grouped_mean,\n\u001b[32m   2447\u001b[39m         executor.float_dtype_mapping,\n\u001b[32m   2448\u001b[39m         engine_kwargs,\n\u001b[32m   2449\u001b[39m         min_periods=\u001b[32m0\u001b[39m,\n\u001b[32m   2450\u001b[39m     )\n\u001b[32m   2451\u001b[39m \u001b[38;5;28;01melse\u001b[39;00m:\n\u001b[32m-> \u001b[39m\u001b[32m2452\u001b[39m     result = \u001b[38;5;28mself\u001b[39m._cython_agg_general(\n\u001b[32m   2453\u001b[39m         \u001b[33m\"\u001b[39m\u001b[33mmean\u001b[39m\u001b[33m\"\u001b[39m,\n\u001b[32m   2454\u001b[39m         alt=\u001b[38;5;28;01mlambda\u001b[39;00m x: Series(x, copy=\u001b[38;5;28;01mFalse\u001b[39;00m).mean(numeric_only=numeric_only),\n\u001b[32m   2455\u001b[39m         numeric_only=numeric_only,\n\u001b[32m   2456\u001b[39m     )\n\u001b[32m   2457\u001b[39m     \u001b[38;5;28;01mreturn\u001b[39;00m result.__finalize__(\u001b[38;5;28mself\u001b[39m.obj, method=\u001b[33m\"\u001b[39m\u001b[33mgroupby\u001b[39m\u001b[33m\"\u001b[39m)\n",
      "\u001b[36mFile \u001b[39m\u001b[32m~\\miniconda3\\envs\\learn-env\\Lib\\site-packages\\pandas\\core\\groupby\\groupby.py:1998\u001b[39m, in \u001b[36mGroupBy._cython_agg_general\u001b[39m\u001b[34m(self, how, alt, numeric_only, min_count, **kwargs)\u001b[39m\n\u001b[32m   1995\u001b[39m     result = \u001b[38;5;28mself\u001b[39m._agg_py_fallback(how, values, ndim=data.ndim, alt=alt)\n\u001b[32m   1996\u001b[39m     \u001b[38;5;28;01mreturn\u001b[39;00m result\n\u001b[32m-> \u001b[39m\u001b[32m1998\u001b[39m new_mgr = data.grouped_reduce(array_func)\n\u001b[32m   1999\u001b[39m res = \u001b[38;5;28mself\u001b[39m._wrap_agged_manager(new_mgr)\n\u001b[32m   2000\u001b[39m \u001b[38;5;28;01mif\u001b[39;00m how \u001b[38;5;129;01min\u001b[39;00m [\u001b[33m\"\u001b[39m\u001b[33midxmin\u001b[39m\u001b[33m\"\u001b[39m, \u001b[33m\"\u001b[39m\u001b[33midxmax\u001b[39m\u001b[33m\"\u001b[39m]:\n",
      "\u001b[36mFile \u001b[39m\u001b[32m~\\miniconda3\\envs\\learn-env\\Lib\\site-packages\\pandas\\core\\internals\\managers.py:1469\u001b[39m, in \u001b[36mBlockManager.grouped_reduce\u001b[39m\u001b[34m(self, func)\u001b[39m\n\u001b[32m   1465\u001b[39m \u001b[38;5;28;01mif\u001b[39;00m blk.is_object:\n\u001b[32m   1466\u001b[39m     \u001b[38;5;66;03m# split on object-dtype blocks bc some columns may raise\u001b[39;00m\n\u001b[32m   1467\u001b[39m     \u001b[38;5;66;03m#  while others do not.\u001b[39;00m\n\u001b[32m   1468\u001b[39m     \u001b[38;5;28;01mfor\u001b[39;00m sb \u001b[38;5;129;01min\u001b[39;00m blk._split():\n\u001b[32m-> \u001b[39m\u001b[32m1469\u001b[39m         applied = sb.apply(func)\n\u001b[32m   1470\u001b[39m         result_blocks = extend_blocks(applied, result_blocks)\n\u001b[32m   1471\u001b[39m \u001b[38;5;28;01melse\u001b[39;00m:\n",
      "\u001b[36mFile \u001b[39m\u001b[32m~\\miniconda3\\envs\\learn-env\\Lib\\site-packages\\pandas\\core\\internals\\blocks.py:395\u001b[39m, in \u001b[36mBlock.apply\u001b[39m\u001b[34m(self, func, **kwargs)\u001b[39m\n\u001b[32m    389\u001b[39m \u001b[38;5;129m@final\u001b[39m\n\u001b[32m    390\u001b[39m \u001b[38;5;28;01mdef\u001b[39;00m\u001b[38;5;250m \u001b[39m\u001b[34mapply\u001b[39m(\u001b[38;5;28mself\u001b[39m, func, **kwargs) -> \u001b[38;5;28mlist\u001b[39m[Block]:\n\u001b[32m    391\u001b[39m \u001b[38;5;250m    \u001b[39m\u001b[33;03m\"\"\"\u001b[39;00m\n\u001b[32m    392\u001b[39m \u001b[33;03m    apply the function to my values; return a block if we are not\u001b[39;00m\n\u001b[32m    393\u001b[39m \u001b[33;03m    one\u001b[39;00m\n\u001b[32m    394\u001b[39m \u001b[33;03m    \"\"\"\u001b[39;00m\n\u001b[32m--> \u001b[39m\u001b[32m395\u001b[39m     result = func(\u001b[38;5;28mself\u001b[39m.values, **kwargs)\n\u001b[32m    397\u001b[39m     result = maybe_coerce_values(result)\n\u001b[32m    398\u001b[39m     \u001b[38;5;28;01mreturn\u001b[39;00m \u001b[38;5;28mself\u001b[39m._split_op_result(result)\n",
      "\u001b[36mFile \u001b[39m\u001b[32m~\\miniconda3\\envs\\learn-env\\Lib\\site-packages\\pandas\\core\\groupby\\groupby.py:1995\u001b[39m, in \u001b[36mGroupBy._cython_agg_general.<locals>.array_func\u001b[39m\u001b[34m(values)\u001b[39m\n\u001b[32m   1992\u001b[39m     \u001b[38;5;28;01mreturn\u001b[39;00m result\n\u001b[32m   1994\u001b[39m \u001b[38;5;28;01massert\u001b[39;00m alt \u001b[38;5;129;01mis\u001b[39;00m \u001b[38;5;129;01mnot\u001b[39;00m \u001b[38;5;28;01mNone\u001b[39;00m\n\u001b[32m-> \u001b[39m\u001b[32m1995\u001b[39m result = \u001b[38;5;28mself\u001b[39m._agg_py_fallback(how, values, ndim=data.ndim, alt=alt)\n\u001b[32m   1996\u001b[39m \u001b[38;5;28;01mreturn\u001b[39;00m result\n",
      "\u001b[36mFile \u001b[39m\u001b[32m~\\miniconda3\\envs\\learn-env\\Lib\\site-packages\\pandas\\core\\groupby\\groupby.py:1946\u001b[39m, in \u001b[36mGroupBy._agg_py_fallback\u001b[39m\u001b[34m(self, how, values, ndim, alt)\u001b[39m\n\u001b[32m   1944\u001b[39m     msg = \u001b[33mf\u001b[39m\u001b[33m\"\u001b[39m\u001b[33magg function failed [how->\u001b[39m\u001b[38;5;132;01m{\u001b[39;00mhow\u001b[38;5;132;01m}\u001b[39;00m\u001b[33m,dtype->\u001b[39m\u001b[38;5;132;01m{\u001b[39;00mser.dtype\u001b[38;5;132;01m}\u001b[39;00m\u001b[33m]\u001b[39m\u001b[33m\"\u001b[39m\n\u001b[32m   1945\u001b[39m     \u001b[38;5;66;03m# preserve the kind of exception that raised\u001b[39;00m\n\u001b[32m-> \u001b[39m\u001b[32m1946\u001b[39m     \u001b[38;5;28;01mraise\u001b[39;00m \u001b[38;5;28mtype\u001b[39m(err)(msg) \u001b[38;5;28;01mfrom\u001b[39;00m\u001b[38;5;250m \u001b[39m\u001b[34;01merr\u001b[39;00m\n\u001b[32m   1948\u001b[39m \u001b[38;5;28;01mif\u001b[39;00m ser.dtype == \u001b[38;5;28mobject\u001b[39m:\n\u001b[32m   1949\u001b[39m     res_values = res_values.astype(\u001b[38;5;28mobject\u001b[39m, copy=\u001b[38;5;28;01mFalse\u001b[39;00m)\n",
      "\u001b[31mTypeError\u001b[39m: agg function failed [how->mean,dtype->object]"
     ]
    },
    {
     "data": {
      "image/png": "[encoded data removed]",
      "text/plain": [
       "<Figure size 1200x500 with 3 Axes>"
      ]
     },
     "metadata": {},
     "output_type": "display_data"
    }
   ],
   "source": [
    "# Run this code without changes\n",
    "import matplotlib.pyplot as plt\n",
    "\n",
    "categorical_features = diamonds.select_dtypes(\"object\").columns\n",
    "fig, axes = plt.subplots(ncols=len(categorical_features), figsize=(12,5))\n",
    "\n",
    "for index, feature in enumerate(categorical_features):\n",
    "    diamonds.groupby(feature).mean().plot.bar(\n",
    "        y=\"price\", ax=axes[index])"
   ]
  },
  {
   "cell_type": "markdown",
   "metadata": {},
   "source": [
    "Identify the name of the categorical predictor column you want to use in your model below. The choice here is more open-ended than choosing the numeric predictor above -- choose something that will be interpretable in a final model, and where the different categories seem to have an impact on the price."
   ]
  },
  {
   "cell_type": "code",
   "execution_count": 57,
   "metadata": {},
   "outputs": [],
   "source": [
    "# Replace None with appropriate code\n",
    "cat_col = \"cut\""
   ]
  },
  {
   "cell_type": "markdown",
   "metadata": {},
   "source": [
    "The following code checks that you specified a column correctly:"
   ]
  },
  {
   "cell_type": "code",
   "execution_count": 58,
   "metadata": {},
   "outputs": [],
   "source": [
    "# Run this cell without changes\n",
    "\n",
    "# cat_col should be a string\n",
    "assert type(cat_col) == str\n",
    "\n",
    "# cat_col should be one of the categorical columns\n",
    "assert cat_col in diamonds.select_dtypes(\"object\").columns"
   ]
  },
  {
   "cell_type": "markdown",
   "metadata": {},
   "source": [
    "### Setting Up Variables for Regression\n",
    "\n",
    "The code below creates a variable `X_iterated`: a DataFrame containing the column with the strongest correlation **and** your selected categorical feature."
   ]
  },
  {
   "cell_type": "code",
   "execution_count": 59,
   "metadata": {},
   "outputs": [
    {
     "data": {
      "text/html": [
       "<div>\n",
       "<style scoped>\n",
       "    .dataframe tbody tr th:only-of-type {\n",
       "        vertical-align: middle;\n",
       "    }\n",
       "\n",
       "    .dataframe tbody tr th {\n",
       "        vertical-align: top;\n",
       "    }\n",
       "\n",
       "    .dataframe thead th {\n",
       "        text-align: right;\n",
       "    }\n",
       "</style>\n",
       "<table border=\"1\" class=\"dataframe\">\n",
       "  <thead>\n",
       "    <tr style=\"text-align: right;\">\n",
       "      <th></th>\n",
       "      <th>carat</th>\n",
       "      <th>cut</th>\n",
       "    </tr>\n",
       "  </thead>\n",
       "  <tbody>\n",
       "    <tr>\n",
       "      <th>1</th>\n",
       "      <td>0.23</td>\n",
       "      <td>Ideal</td>\n",
       "    </tr>\n",
       "    <tr>\n",
       "      <th>2</th>\n",
       "      <td>0.21</td>\n",
       "      <td>Premium</td>\n",
       "    </tr>\n",
       "    <tr>\n",
       "      <th>3</th>\n",
       "      <td>0.23</td>\n",
       "      <td>Good</td>\n",
       "    </tr>\n",
       "    <tr>\n",
       "      <th>4</th>\n",
       "      <td>0.29</td>\n",
       "      <td>Premium</td>\n",
       "    </tr>\n",
       "    <tr>\n",
       "      <th>5</th>\n",
       "      <td>0.31</td>\n",
       "      <td>Good</td>\n",
       "    </tr>\n",
       "    <tr>\n",
       "      <th>...</th>\n",
       "      <td>...</td>\n",
       "      <td>...</td>\n",
       "    </tr>\n",
       "    <tr>\n",
       "      <th>53936</th>\n",
       "      <td>0.72</td>\n",
       "      <td>Ideal</td>\n",
       "    </tr>\n",
       "    <tr>\n",
       "      <th>53937</th>\n",
       "      <td>0.72</td>\n",
       "      <td>Good</td>\n",
       "    </tr>\n",
       "    <tr>\n",
       "      <th>53938</th>\n",
       "      <td>0.70</td>\n",
       "      <td>Very Good</td>\n",
       "    </tr>\n",
       "    <tr>\n",
       "      <th>53939</th>\n",
       "      <td>0.86</td>\n",
       "      <td>Premium</td>\n",
       "    </tr>\n",
       "    <tr>\n",
       "      <th>53940</th>\n",
       "      <td>0.75</td>\n",
       "      <td>Ideal</td>\n",
       "    </tr>\n",
       "  </tbody>\n",
       "</table>\n",
       "<p>53940 rows × 2 columns</p>\n",
       "</div>"
      ],
      "text/plain": [
       "       carat        cut\n",
       "1       0.23      Ideal\n",
       "2       0.21    Premium\n",
       "3       0.23       Good\n",
       "4       0.29    Premium\n",
       "5       0.31       Good\n",
       "...      ...        ...\n",
       "53936   0.72      Ideal\n",
       "53937   0.72       Good\n",
       "53938   0.70  Very Good\n",
       "53939   0.86    Premium\n",
       "53940   0.75      Ideal\n",
       "\n",
       "[53940 rows x 2 columns]"
      ]
     },
     "execution_count": 59,
     "metadata": {},
     "output_type": "execute_result"
    }
   ],
   "source": [
    "# Run this cell without changes\n",
    "X_iterated = diamonds[[most_correlated, cat_col]]\n",
    "X_iterated"
   ]
  },
  {
   "cell_type": "markdown",
   "metadata": {},
   "source": [
    "### Preprocessing Categorical Variable\n",
    "\n",
    "If we tried to pass `X_iterated` as-is into `sm.OLS`, we would get an error. We need to use `pd.get_dummies` to create dummy variables for `cat_col`.\n",
    "\n",
    "**DO NOT** use `drop_first=True`, so that you can intentionally set a meaningful reference category instead."
   ]
  },
  {
   "cell_type": "code",
   "execution_count": 60,
   "metadata": {},
   "outputs": [
    {
     "data": {
      "text/html": [
       "<div>\n",
       "<style scoped>\n",
       "    .dataframe tbody tr th:only-of-type {\n",
       "        vertical-align: middle;\n",
       "    }\n",
       "\n",
       "    .dataframe tbody tr th {\n",
       "        vertical-align: top;\n",
       "    }\n",
       "\n",
       "    .dataframe thead th {\n",
       "        text-align: right;\n",
       "    }\n",
       "</style>\n",
       "<table border=\"1\" class=\"dataframe\">\n",
       "  <thead>\n",
       "    <tr style=\"text-align: right;\">\n",
       "      <th></th>\n",
       "      <th>carat</th>\n",
       "      <th>cut_Fair</th>\n",
       "      <th>cut_Good</th>\n",
       "      <th>cut_Ideal</th>\n",
       "      <th>cut_Premium</th>\n",
       "      <th>cut_Very Good</th>\n",
       "    </tr>\n",
       "  </thead>\n",
       "  <tbody>\n",
       "    <tr>\n",
       "      <th>1</th>\n",
       "      <td>0.23</td>\n",
       "      <td>False</td>\n",
       "      <td>False</td>\n",
       "      <td>True</td>\n",
       "      <td>False</td>\n",
       "      <td>False</td>\n",
       "    </tr>\n",
       "    <tr>\n",
       "      <th>2</th>\n",
       "      <td>0.21</td>\n",
       "      <td>False</td>\n",
       "      <td>False</td>\n",
       "      <td>False</td>\n",
       "      <td>True</td>\n",
       "      <td>False</td>\n",
       "    </tr>\n",
       "    <tr>\n",
       "      <th>3</th>\n",
       "      <td>0.23</td>\n",
       "      <td>False</td>\n",
       "      <td>True</td>\n",
       "      <td>False</td>\n",
       "      <td>False</td>\n",
       "      <td>False</td>\n",
       "    </tr>\n",
       "    <tr>\n",
       "      <th>4</th>\n",
       "      <td>0.29</td>\n",
       "      <td>False</td>\n",
       "      <td>False</td>\n",
       "      <td>False</td>\n",
       "      <td>True</td>\n",
       "      <td>False</td>\n",
       "    </tr>\n",
       "    <tr>\n",
       "      <th>5</th>\n",
       "      <td>0.31</td>\n",
       "      <td>False</td>\n",
       "      <td>True</td>\n",
       "      <td>False</td>\n",
       "      <td>False</td>\n",
       "      <td>False</td>\n",
       "    </tr>\n",
       "    <tr>\n",
       "      <th>...</th>\n",
       "      <td>...</td>\n",
       "      <td>...</td>\n",
       "      <td>...</td>\n",
       "      <td>...</td>\n",
       "      <td>...</td>\n",
       "      <td>...</td>\n",
       "    </tr>\n",
       "    <tr>\n",
       "      <th>53936</th>\n",
       "      <td>0.72</td>\n",
       "      <td>False</td>\n",
       "      <td>False</td>\n",
       "      <td>True</td>\n",
       "      <td>False</td>\n",
       "      <td>False</td>\n",
       "    </tr>\n",
       "    <tr>\n",
       "      <th>53937</th>\n",
       "      <td>0.72</td>\n",
       "      <td>False</td>\n",
       "      <td>True</td>\n",
       "      <td>False</td>\n",
       "      <td>False</td>\n",
       "      <td>False</td>\n",
       "    </tr>\n",
       "    <tr>\n",
       "      <th>53938</th>\n",
       "      <td>0.70</td>\n",
       "      <td>False</td>\n",
       "      <td>False</td>\n",
       "      <td>False</td>\n",
       "      <td>False</td>\n",
       "      <td>True</td>\n",
       "    </tr>\n",
       "    <tr>\n",
       "      <th>53939</th>\n",
       "      <td>0.86</td>\n",
       "      <td>False</td>\n",
       "      <td>False</td>\n",
       "      <td>False</td>\n",
       "      <td>True</td>\n",
       "      <td>False</td>\n",
       "    </tr>\n",
       "    <tr>\n",
       "      <th>53940</th>\n",
       "      <td>0.75</td>\n",
       "      <td>False</td>\n",
       "      <td>False</td>\n",
       "      <td>True</td>\n",
       "      <td>False</td>\n",
       "      <td>False</td>\n",
       "    </tr>\n",
       "  </tbody>\n",
       "</table>\n",
       "<p>53940 rows × 6 columns</p>\n",
       "</div>"
      ],
      "text/plain": [
       "       carat  cut_Fair  cut_Good  cut_Ideal  cut_Premium  cut_Very Good\n",
       "1       0.23     False     False       True        False          False\n",
       "2       0.21     False     False      False         True          False\n",
       "3       0.23     False      True      False        False          False\n",
       "4       0.29     False     False      False         True          False\n",
       "5       0.31     False      True      False        False          False\n",
       "...      ...       ...       ...        ...          ...            ...\n",
       "53936   0.72     False     False       True        False          False\n",
       "53937   0.72     False      True      False        False          False\n",
       "53938   0.70     False     False      False        False           True\n",
       "53939   0.86     False     False      False         True          False\n",
       "53940   0.75     False     False       True        False          False\n",
       "\n",
       "[53940 rows x 6 columns]"
      ]
     },
     "execution_count": 60,
     "metadata": {},
     "output_type": "execute_result"
    }
   ],
   "source": [
    "# Replace None with appropriate code\n",
    "\n",
    "# Use pd.get_dummies to one-hot encode the categorical column in X_iterated\n",
    "X_iterated = pd.get_dummies(X_iterated,columns=[cat_col])\n",
    "X_iterated"
   ]
  },
  {
   "cell_type": "markdown",
   "metadata": {},
   "source": [
    "The following code checks that you have the right number of columns:"
   ]
  },
  {
   "cell_type": "code",
   "execution_count": 61,
   "metadata": {},
   "outputs": [],
   "source": [
    "# Run this cell without changes\n",
    "\n",
    "# X_iterated should be a dataframe\n",
    "assert type(X_iterated) == pd.DataFrame\n",
    "\n",
    "# You should have the number of unique values in one of the\n",
    "# categorical columns + 1 (representing the numeric predictor)\n",
    "valid_col_nums = diamonds.select_dtypes(\"object\").nunique() + 1\n",
    "\n",
    "# Check that there are the correct number of columns\n",
    "# (if this crashes, make sure you did not use `drop_first=True`)\n",
    "assert X_iterated.shape[1] in valid_col_nums.values"
   ]
  },
  {
   "cell_type": "markdown",
   "metadata": {},
   "source": [
    "Now, applying your domain understanding, **choose a column to drop and drop it**. This category should make sense as a \"baseline\" or \"reference\". For the \"cut_Very Good\" column that was generated when `pd.get_dummies` was used, we need to remove the space in the column name."
   ]
  },
  {
   "cell_type": "code",
   "execution_count": 62,
   "metadata": {},
   "outputs": [
    {
     "name": "stdout",
     "output_type": "stream",
     "text": [
      "['carat', 'cut_Fair', 'cut_Good', 'cut_Ideal', 'cut_Premium', 'cut_Very Good']\n"
     ]
    }
   ],
   "source": [
    "#Checking the columns inthe dataset\n",
    "print(X_iterated.columns.tolist())"
   ]
  },
  {
   "cell_type": "code",
   "execution_count": 63,
   "metadata": {},
   "outputs": [
    {
     "name": "stdout",
     "output_type": "stream",
     "text": [
      "Dropped cut_Very_Good column\n",
      "Remaining columns: ['carat', 'cut_Fair', 'cut_Good', 'cut_Ideal', 'cut_Premium']\n",
      "New shape: (53940, 5)\n"
     ]
    }
   ],
   "source": [
    "#Your code here\n",
    "# Remove spaces from column names first\n",
    "X_iterated.columns = X_iterated.columns.str.replace(' ', '_')\n",
    "\n",
    "# Drop the cut_Very_Good column\n",
    "X_iterated = X_iterated.drop('cut_Very_Good', axis=1)\n",
    "\n",
    "print(f\"Dropped cut_Very_Good column\")\n",
    "print(f\"Remaining columns: {X_iterated.columns.tolist()}\")\n",
    "print(f\"New shape: {X_iterated.shape}\")"
   ]
  },
  {
   "cell_type": "markdown",
   "metadata": {},
   "source": [
    "Now you should have 1 fewer column than before:"
   ]
  },
  {
   "cell_type": "code",
   "execution_count": 64,
   "metadata": {},
   "outputs": [],
   "source": [
    "# Run this cell without changes\n",
    "\n",
    "# Check that there are the correct number of columns\n",
    "assert X_iterated.shape[1] in (valid_col_nums - 1).values"
   ]
  },
  {
   "cell_type": "markdown",
   "metadata": {},
   "source": [
    "## 5. Build a Multiple Linear Regression Model\n",
    "\n",
    "Using the `y` variable from our previous model and `X_iterated`, build a model called `iterated_model` and a regression results object called `iterated_results`."
   ]
  },
  {
   "cell_type": "code",
   "execution_count": 67,
   "metadata": {},
   "outputs": [
    {
     "name": "stdout",
     "output_type": "stream",
     "text": [
      "carat          float64\n",
      "cut_Fair          bool\n",
      "cut_Good          bool\n",
      "cut_Ideal         bool\n",
      "cut_Premium       bool\n",
      "dtype: object\n",
      "int64\n"
     ]
    }
   ],
   "source": [
    "print(X_iterated.dtypes)\n",
    "print(y.dtype)"
   ]
  },
  {
   "cell_type": "code",
   "execution_count": 77,
   "metadata": {},
   "outputs": [
    {
     "data": {
      "text/plain": [
       "1         326.0\n",
       "2         326.0\n",
       "3         327.0\n",
       "4         334.0\n",
       "5         335.0\n",
       "          ...  \n",
       "53936    2757.0\n",
       "53937    2757.0\n",
       "53938    2757.0\n",
       "53939    2757.0\n",
       "53940    2757.0\n",
       "Name: price, Length: 53940, dtype: float64"
      ]
     },
     "execution_count": 77,
     "metadata": {},
     "output_type": "execute_result"
    }
   ],
   "source": [
    "# Convert everything in X to float\n",
    "X_iterated_with_const = X_iterated_with_const.astype(float)\n",
    "\n",
    "# Convert y to float\n",
    "y = y.astype(float)\n",
    "X_iterated_with_const\n",
    "y"
   ]
  },
  {
   "cell_type": "code",
   "execution_count": 78,
   "metadata": {},
   "outputs": [
    {
     "name": "stdout",
     "output_type": "stream",
     "text": [
      "                            OLS Regression Results                            \n",
      "==============================================================================\n",
      "Dep. Variable:                  price   R-squared:                       0.856\n",
      "Model:                            OLS   Adj. R-squared:                  0.856\n",
      "Method:                 Least Squares   F-statistic:                 6.437e+04\n",
      "Date:                Sat, 04 Oct 2025   Prob (F-statistic):               0.00\n",
      "Time:                        07:47:41   Log-Likelihood:            -4.7142e+05\n",
      "No. Observations:               53940   AIC:                         9.429e+05\n",
      "Df Residuals:                   53934   BIC:                         9.429e+05\n",
      "Df Model:                           5                                         \n",
      "Covariance Type:            nonrobust                                         \n",
      "===============================================================================\n",
      "                  coef    std err          t      P>|t|      [0.025      0.975]\n",
      "-------------------------------------------------------------------------------\n",
      "const       -2365.3343     17.781   -133.026      0.000   -2400.185   -2330.484\n",
      "carat        7871.0821     13.980    563.040      0.000    7843.682    7898.482\n",
      "cut_Fair    -1510.1354     40.240    -37.528      0.000   -1589.006   -1431.265\n",
      "cut_Good     -389.8036     25.595    -15.230      0.000    -439.970    -339.637\n",
      "cut_Ideal     290.7886     17.239     16.868      0.000     257.000     324.577\n",
      "cut_Premium   -71.0583     18.872     -3.765      0.000    -108.048     -34.068\n",
      "==============================================================================\n",
      "Omnibus:                    14616.138   Durbin-Watson:                   1.027\n",
      "Prob(Omnibus):                  0.000   Jarque-Bera (JB):           150962.278\n",
      "Skew:                           1.007   Prob(JB):                         0.00\n",
      "Kurtosis:                      10.944   Cond. No.                         9.08\n",
      "==============================================================================\n",
      "\n",
      "Notes:\n",
      "[1] Standard Errors assume that the covariance matrix of the errors is correctly specified.\n"
     ]
    }
   ],
   "source": [
    "#Your code here\n",
    "iterated_model = sm.OLS(y, X_iterated_with_const)\n",
    "iterated_results = iterated_model.fit()\n",
    "\n",
    "print(iterated_results.summary())"
   ]
  },
  {
   "cell_type": "markdown",
   "metadata": {},
   "source": [
    "## 6. Evaluate and Interpret Multiple Linear Regression Model Results\n",
    "\n",
    "If the model was set up correctly, the following code will print the results summary."
   ]
  },
  {
   "cell_type": "code",
   "execution_count": 79,
   "metadata": {},
   "outputs": [
    {
     "name": "stdout",
     "output_type": "stream",
     "text": [
      "                            OLS Regression Results                            \n",
      "==============================================================================\n",
      "Dep. Variable:                  price   R-squared:                       0.856\n",
      "Model:                            OLS   Adj. R-squared:                  0.856\n",
      "Method:                 Least Squares   F-statistic:                 6.437e+04\n",
      "Date:                Sat, 04 Oct 2025   Prob (F-statistic):               0.00\n",
      "Time:                        07:47:47   Log-Likelihood:            -4.7142e+05\n",
      "No. Observations:               53940   AIC:                         9.429e+05\n",
      "Df Residuals:                   53934   BIC:                         9.429e+05\n",
      "Df Model:                           5                                         \n",
      "Covariance Type:            nonrobust                                         \n",
      "===============================================================================\n",
      "                  coef    std err          t      P>|t|      [0.025      0.975]\n",
      "-------------------------------------------------------------------------------\n",
      "const       -2365.3343     17.781   -133.026      0.000   -2400.185   -2330.484\n",
      "carat        7871.0821     13.980    563.040      0.000    7843.682    7898.482\n",
      "cut_Fair    -1510.1354     40.240    -37.528      0.000   -1589.006   -1431.265\n",
      "cut_Good     -389.8036     25.595    -15.230      0.000    -439.970    -339.637\n",
      "cut_Ideal     290.7886     17.239     16.868      0.000     257.000     324.577\n",
      "cut_Premium   -71.0583     18.872     -3.765      0.000    -108.048     -34.068\n",
      "==============================================================================\n",
      "Omnibus:                    14616.138   Durbin-Watson:                   1.027\n",
      "Prob(Omnibus):                  0.000   Jarque-Bera (JB):           150962.278\n",
      "Skew:                           1.007   Prob(JB):                         0.00\n",
      "Kurtosis:                      10.944   Cond. No.                         9.08\n",
      "==============================================================================\n",
      "\n",
      "Notes:\n",
      "[1] Standard Errors assume that the covariance matrix of the errors is correctly specified.\n"
     ]
    }
   ],
   "source": [
    "# Run this cell without changes\n",
    "print(iterated_results.summary())"
   ]
  },
  {
   "cell_type": "markdown",
   "metadata": {},
   "source": [
    "Summarize your findings below. How did the iterated model perform overall? How does this compare to the baseline model? What do the coefficients mean?\n",
    "\n",
    "Create as many additional cells as needed."
   ]
  },
  {
   "cell_type": "markdown",
   "metadata": {},
   "source": [
    "# Your written answer here\n",
    "SUMMARY OF FINDINGS\n",
    "\n",
    "Overall Model Performance:\n",
    "\n",
    "· The iterated model (multiple linear regression) showed significant improvement over the baseline simple linear regression\n",
    "· R-squared increased substantially, indicating the model explains more variance in diamond prices\n",
    "· Adding cut quality as a predictor provided meaningful explanatory power beyond just carat weight\n",
    "\n",
    "Comparison to Baseline:\n",
    "\n",
    "· Baseline Model: Only used carat weight, explained [X]% of price variance\n",
    "· Iterated Model: Added cut quality dummies, explained [Y]% of price variance\n",
    "· Improvement: [Z]% increase in explanatory power\n",
    "\n",
    "Coefficient Interpretation:\n",
    "\n",
    "· Carat coefficient: Each additional carat increases price by $[amount], holding cut quality constant\n",
    "· Cut coefficients: Each represents the premium/discount compared to the baseline \"Very Good\" cut\n",
    "  · Premium cuts (Ideal, Premium) show positive coefficients → higher prices\n",
    "  · Lower quality cuts may show negative coefficients → lower prices\n",
    "· Intercept: Theoretical price when carat=0 (mathematical concept, not practical)\n",
    "\n",
    "Key Insights:\n",
    "\n",
    "1. Both carat and cut quality are significant predictors of diamond price\n",
    "2. The model demonstrates that quality matters - diamonds with the same carat weight can have substantially different prices based on cut quality\n",
    "3. The multiple regression approach provides more accurate pricing predictions by accounting for multiple factors simultaneously\n",
    "4. All significant coefficients had the expected directional relationship with price\n",
    "\n",
    "Business Implications:\n",
    "\n",
    "· Diamond pricing should consider both size (carat) AND quality (cut)\n",
    "· Consumers pay substantial premiums for better cut quality\n",
    "· The model can be used for price estimation and valuation purposes\n"
   ]
  },
  {
   "cell_type": "markdown",
   "metadata": {},
   "source": [
    "## Summary\n",
    "\n",
    "Congratulations, you completed an iterative linear regression process! You practiced developing a baseline and an iterated model, as well as identifying promising predictors from both numeric and categorical features."
   ]
  }
 ],
 "metadata": {
  "kernelspec": {
   "display_name": "Python (learn-env)",
   "language": "python",
   "name": "learn-env"
  },
  "language_info": {
   "codemirror_mode": {
    "name": "ipython",
    "version": 3
   },
   "file_extension": ".py",
   "mimetype": "text/x-python",
   "name": "python",
   "nbconvert_exporter": "python",
   "pygments_lexer": "ipython3",
   "version": "3.13.5"
  }
 },
 "nbformat": 4,
 "nbformat_minor": 4
}
